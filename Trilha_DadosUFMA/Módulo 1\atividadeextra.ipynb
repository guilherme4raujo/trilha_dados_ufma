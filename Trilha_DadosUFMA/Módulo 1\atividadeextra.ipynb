{
  "nbformat": 4,
  "nbformat_minor": 0,
  "metadata": {
    "colab": {
      "provenance": [],
      "authorship_tag": "ABX9TyOYV9XBJuLQqKde2wb5vJRR",
      "include_colab_link": true
    },
    "kernelspec": {
      "name": "python3",
      "display_name": "Python 3"
    },
    "language_info": {
      "name": "python"
    }
  },
  "cells": [
    {
      "cell_type": "markdown",
      "metadata": {
        "id": "view-in-github",
        "colab_type": "text"
      },
      "source": [
        "<a href=\"https://colab.research.google.com/github/guilherme4raujo/trilha_dados_ufma/blob/main/Trilha_DadosUFMA/M%C3%B3dulo%201%5Catividadeextra.ipynb\" target=\"_parent\"><img src=\"https://colab.research.google.com/assets/colab-badge.svg\" alt=\"Open In Colab\"/></a>"
      ]
    },
    {
      "cell_type": "markdown",
      "source": [
        "#Analisando os dados dos técnicos Administrativos da UFMA"
      ],
      "metadata": {
        "id": "CGk9wC-zY07X"
      }
    },
    {
      "cell_type": "markdown",
      "source": [
        "####Qual é a quantidade técnicos administrativos por unidade, sexo e titulação no ano de 2020?"
      ],
      "metadata": {
        "id": "A-lHN2BQZK6s"
      }
    },
    {
      "cell_type": "code",
      "execution_count": null,
      "metadata": {
        "colab": {
          "base_uri": "https://localhost:8080/",
          "height": 275
        },
        "id": "G4l4xpEpT0DA",
        "outputId": "1a882110-1411-4e4e-894c-df348d84f6dc"
      },
      "outputs": [
        {
          "output_type": "execute_result",
          "data": {
            "text/plain": [
              "                              nome  \\\n",
              "0    ANDREA MARTINS MELO FONTENELE   \n",
              "1    CANDIDO JOSE FERNANDES AGUIAR   \n",
              "2  DENISE ATAIDE DE OLIVEIRA JESUS   \n",
              "3                JOSE JORGE MENDES   \n",
              "4          NEUSA BUZAR VASCONCELOS   \n",
              "\n",
              "                                      unidade sexo       titulacao  \n",
              "0     HOSPITAL UNIVERSITARIO/SUPERINTENDENCIA    F       DOUTORADO  \n",
              "1  PRO-REITORIA DE GESTAO DE PESSOAS - PROGEP    M  ESPECIALIZAÇÃO  \n",
              "2                           GABINETE/REITORIA    F  ESPECIALIZAÇÃO  \n",
              "3                           GABINETE/REITORIA    M        MESTRADO  \n",
              "4                           GABINETE/REITORIA    F        MESTRADO  "
            ],
            "text/html": [
              "\n",
              "  <div id=\"df-036f5b81-bd7c-4aaf-9267-c2f10c3390df\" class=\"colab-df-container\">\n",
              "    <div>\n",
              "<style scoped>\n",
              "    .dataframe tbody tr th:only-of-type {\n",
              "        vertical-align: middle;\n",
              "    }\n",
              "\n",
              "    .dataframe tbody tr th {\n",
              "        vertical-align: top;\n",
              "    }\n",
              "\n",
              "    .dataframe thead th {\n",
              "        text-align: right;\n",
              "    }\n",
              "</style>\n",
              "<table border=\"1\" class=\"dataframe\">\n",
              "  <thead>\n",
              "    <tr style=\"text-align: right;\">\n",
              "      <th></th>\n",
              "      <th>nome</th>\n",
              "      <th>unidade</th>\n",
              "      <th>sexo</th>\n",
              "      <th>titulacao</th>\n",
              "    </tr>\n",
              "  </thead>\n",
              "  <tbody>\n",
              "    <tr>\n",
              "      <th>0</th>\n",
              "      <td>ANDREA MARTINS MELO FONTENELE</td>\n",
              "      <td>HOSPITAL UNIVERSITARIO/SUPERINTENDENCIA</td>\n",
              "      <td>F</td>\n",
              "      <td>DOUTORADO</td>\n",
              "    </tr>\n",
              "    <tr>\n",
              "      <th>1</th>\n",
              "      <td>CANDIDO JOSE FERNANDES AGUIAR</td>\n",
              "      <td>PRO-REITORIA DE GESTAO DE PESSOAS - PROGEP</td>\n",
              "      <td>M</td>\n",
              "      <td>ESPECIALIZAÇÃO</td>\n",
              "    </tr>\n",
              "    <tr>\n",
              "      <th>2</th>\n",
              "      <td>DENISE ATAIDE DE OLIVEIRA JESUS</td>\n",
              "      <td>GABINETE/REITORIA</td>\n",
              "      <td>F</td>\n",
              "      <td>ESPECIALIZAÇÃO</td>\n",
              "    </tr>\n",
              "    <tr>\n",
              "      <th>3</th>\n",
              "      <td>JOSE JORGE MENDES</td>\n",
              "      <td>GABINETE/REITORIA</td>\n",
              "      <td>M</td>\n",
              "      <td>MESTRADO</td>\n",
              "    </tr>\n",
              "    <tr>\n",
              "      <th>4</th>\n",
              "      <td>NEUSA BUZAR VASCONCELOS</td>\n",
              "      <td>GABINETE/REITORIA</td>\n",
              "      <td>F</td>\n",
              "      <td>MESTRADO</td>\n",
              "    </tr>\n",
              "  </tbody>\n",
              "</table>\n",
              "</div>\n",
              "    <div class=\"colab-df-buttons\">\n",
              "\n",
              "  <div class=\"colab-df-container\">\n",
              "    <button class=\"colab-df-convert\" onclick=\"convertToInteractive('df-036f5b81-bd7c-4aaf-9267-c2f10c3390df')\"\n",
              "            title=\"Convert this dataframe to an interactive table.\"\n",
              "            style=\"display:none;\">\n",
              "\n",
              "  <svg xmlns=\"http://www.w3.org/2000/svg\" height=\"24px\" viewBox=\"0 -960 960 960\">\n",
              "    <path d=\"M120-120v-720h720v720H120Zm60-500h600v-160H180v160Zm220 220h160v-160H400v160Zm0 220h160v-160H400v160ZM180-400h160v-160H180v160Zm440 0h160v-160H620v160ZM180-180h160v-160H180v160Zm440 0h160v-160H620v160Z\"/>\n",
              "  </svg>\n",
              "    </button>\n",
              "\n",
              "  <style>\n",
              "    .colab-df-container {\n",
              "      display:flex;\n",
              "      gap: 12px;\n",
              "    }\n",
              "\n",
              "    .colab-df-convert {\n",
              "      background-color: #E8F0FE;\n",
              "      border: none;\n",
              "      border-radius: 50%;\n",
              "      cursor: pointer;\n",
              "      display: none;\n",
              "      fill: #1967D2;\n",
              "      height: 32px;\n",
              "      padding: 0 0 0 0;\n",
              "      width: 32px;\n",
              "    }\n",
              "\n",
              "    .colab-df-convert:hover {\n",
              "      background-color: #E2EBFA;\n",
              "      box-shadow: 0px 1px 2px rgba(60, 64, 67, 0.3), 0px 1px 3px 1px rgba(60, 64, 67, 0.15);\n",
              "      fill: #174EA6;\n",
              "    }\n",
              "\n",
              "    .colab-df-buttons div {\n",
              "      margin-bottom: 4px;\n",
              "    }\n",
              "\n",
              "    [theme=dark] .colab-df-convert {\n",
              "      background-color: #3B4455;\n",
              "      fill: #D2E3FC;\n",
              "    }\n",
              "\n",
              "    [theme=dark] .colab-df-convert:hover {\n",
              "      background-color: #434B5C;\n",
              "      box-shadow: 0px 1px 3px 1px rgba(0, 0, 0, 0.15);\n",
              "      filter: drop-shadow(0px 1px 2px rgba(0, 0, 0, 0.3));\n",
              "      fill: #FFFFFF;\n",
              "    }\n",
              "  </style>\n",
              "\n",
              "    <script>\n",
              "      const buttonEl =\n",
              "        document.querySelector('#df-036f5b81-bd7c-4aaf-9267-c2f10c3390df button.colab-df-convert');\n",
              "      buttonEl.style.display =\n",
              "        google.colab.kernel.accessAllowed ? 'block' : 'none';\n",
              "\n",
              "      async function convertToInteractive(key) {\n",
              "        const element = document.querySelector('#df-036f5b81-bd7c-4aaf-9267-c2f10c3390df');\n",
              "        const dataTable =\n",
              "          await google.colab.kernel.invokeFunction('convertToInteractive',\n",
              "                                                    [key], {});\n",
              "        if (!dataTable) return;\n",
              "\n",
              "        const docLinkHtml = 'Like what you see? Visit the ' +\n",
              "          '<a target=\"_blank\" href=https://colab.research.google.com/notebooks/data_table.ipynb>data table notebook</a>'\n",
              "          + ' to learn more about interactive tables.';\n",
              "        element.innerHTML = '';\n",
              "        dataTable['output_type'] = 'display_data';\n",
              "        await google.colab.output.renderOutput(dataTable, element);\n",
              "        const docLink = document.createElement('div');\n",
              "        docLink.innerHTML = docLinkHtml;\n",
              "        element.appendChild(docLink);\n",
              "      }\n",
              "    </script>\n",
              "  </div>\n",
              "\n",
              "\n",
              "<div id=\"df-57dea858-8305-4e17-a9dd-32ca88f3d561\">\n",
              "  <button class=\"colab-df-quickchart\" onclick=\"quickchart('df-57dea858-8305-4e17-a9dd-32ca88f3d561')\"\n",
              "            title=\"Suggest charts\"\n",
              "            style=\"display:none;\">\n",
              "\n",
              "<svg xmlns=\"http://www.w3.org/2000/svg\" height=\"24px\"viewBox=\"0 0 24 24\"\n",
              "     width=\"24px\">\n",
              "    <g>\n",
              "        <path d=\"M19 3H5c-1.1 0-2 .9-2 2v14c0 1.1.9 2 2 2h14c1.1 0 2-.9 2-2V5c0-1.1-.9-2-2-2zM9 17H7v-7h2v7zm4 0h-2V7h2v10zm4 0h-2v-4h2v4z\"/>\n",
              "    </g>\n",
              "</svg>\n",
              "  </button>\n",
              "\n",
              "<style>\n",
              "  .colab-df-quickchart {\n",
              "      --bg-color: #E8F0FE;\n",
              "      --fill-color: #1967D2;\n",
              "      --hover-bg-color: #E2EBFA;\n",
              "      --hover-fill-color: #174EA6;\n",
              "      --disabled-fill-color: #AAA;\n",
              "      --disabled-bg-color: #DDD;\n",
              "  }\n",
              "\n",
              "  [theme=dark] .colab-df-quickchart {\n",
              "      --bg-color: #3B4455;\n",
              "      --fill-color: #D2E3FC;\n",
              "      --hover-bg-color: #434B5C;\n",
              "      --hover-fill-color: #FFFFFF;\n",
              "      --disabled-bg-color: #3B4455;\n",
              "      --disabled-fill-color: #666;\n",
              "  }\n",
              "\n",
              "  .colab-df-quickchart {\n",
              "    background-color: var(--bg-color);\n",
              "    border: none;\n",
              "    border-radius: 50%;\n",
              "    cursor: pointer;\n",
              "    display: none;\n",
              "    fill: var(--fill-color);\n",
              "    height: 32px;\n",
              "    padding: 0;\n",
              "    width: 32px;\n",
              "  }\n",
              "\n",
              "  .colab-df-quickchart:hover {\n",
              "    background-color: var(--hover-bg-color);\n",
              "    box-shadow: 0 1px 2px rgba(60, 64, 67, 0.3), 0 1px 3px 1px rgba(60, 64, 67, 0.15);\n",
              "    fill: var(--button-hover-fill-color);\n",
              "  }\n",
              "\n",
              "  .colab-df-quickchart-complete:disabled,\n",
              "  .colab-df-quickchart-complete:disabled:hover {\n",
              "    background-color: var(--disabled-bg-color);\n",
              "    fill: var(--disabled-fill-color);\n",
              "    box-shadow: none;\n",
              "  }\n",
              "\n",
              "  .colab-df-spinner {\n",
              "    border: 2px solid var(--fill-color);\n",
              "    border-color: transparent;\n",
              "    border-bottom-color: var(--fill-color);\n",
              "    animation:\n",
              "      spin 1s steps(1) infinite;\n",
              "  }\n",
              "\n",
              "  @keyframes spin {\n",
              "    0% {\n",
              "      border-color: transparent;\n",
              "      border-bottom-color: var(--fill-color);\n",
              "      border-left-color: var(--fill-color);\n",
              "    }\n",
              "    20% {\n",
              "      border-color: transparent;\n",
              "      border-left-color: var(--fill-color);\n",
              "      border-top-color: var(--fill-color);\n",
              "    }\n",
              "    30% {\n",
              "      border-color: transparent;\n",
              "      border-left-color: var(--fill-color);\n",
              "      border-top-color: var(--fill-color);\n",
              "      border-right-color: var(--fill-color);\n",
              "    }\n",
              "    40% {\n",
              "      border-color: transparent;\n",
              "      border-right-color: var(--fill-color);\n",
              "      border-top-color: var(--fill-color);\n",
              "    }\n",
              "    60% {\n",
              "      border-color: transparent;\n",
              "      border-right-color: var(--fill-color);\n",
              "    }\n",
              "    80% {\n",
              "      border-color: transparent;\n",
              "      border-right-color: var(--fill-color);\n",
              "      border-bottom-color: var(--fill-color);\n",
              "    }\n",
              "    90% {\n",
              "      border-color: transparent;\n",
              "      border-bottom-color: var(--fill-color);\n",
              "    }\n",
              "  }\n",
              "</style>\n",
              "\n",
              "  <script>\n",
              "    async function quickchart(key) {\n",
              "      const quickchartButtonEl =\n",
              "        document.querySelector('#' + key + ' button');\n",
              "      quickchartButtonEl.disabled = true;  // To prevent multiple clicks.\n",
              "      quickchartButtonEl.classList.add('colab-df-spinner');\n",
              "      try {\n",
              "        const charts = await google.colab.kernel.invokeFunction(\n",
              "            'suggestCharts', [key], {});\n",
              "      } catch (error) {\n",
              "        console.error('Error during call to suggestCharts:', error);\n",
              "      }\n",
              "      quickchartButtonEl.classList.remove('colab-df-spinner');\n",
              "      quickchartButtonEl.classList.add('colab-df-quickchart-complete');\n",
              "    }\n",
              "    (() => {\n",
              "      let quickchartButtonEl =\n",
              "        document.querySelector('#df-57dea858-8305-4e17-a9dd-32ca88f3d561 button');\n",
              "      quickchartButtonEl.style.display =\n",
              "        google.colab.kernel.accessAllowed ? 'block' : 'none';\n",
              "    })();\n",
              "  </script>\n",
              "</div>\n",
              "\n",
              "    </div>\n",
              "  </div>\n"
            ],
            "application/vnd.google.colaboratory.intrinsic+json": {
              "type": "dataframe",
              "summary": "{\n  \"name\": \"#df\",\n  \"rows\": 5,\n  \"fields\": [\n    {\n      \"column\": \"nome\",\n      \"properties\": {\n        \"dtype\": \"string\",\n        \"num_unique_values\": 5,\n        \"samples\": [\n          \"CANDIDO JOSE FERNANDES AGUIAR\",\n          \"NEUSA BUZAR VASCONCELOS\",\n          \"DENISE ATAIDE DE OLIVEIRA JESUS\"\n        ],\n        \"semantic_type\": \"\",\n        \"description\": \"\"\n      }\n    },\n    {\n      \"column\": \"unidade\",\n      \"properties\": {\n        \"dtype\": \"string\",\n        \"num_unique_values\": 3,\n        \"samples\": [\n          \"HOSPITAL UNIVERSITARIO/SUPERINTENDENCIA\",\n          \"PRO-REITORIA DE GESTAO DE PESSOAS - PROGEP\",\n          \"GABINETE/REITORIA\"\n        ],\n        \"semantic_type\": \"\",\n        \"description\": \"\"\n      }\n    },\n    {\n      \"column\": \"sexo\",\n      \"properties\": {\n        \"dtype\": \"category\",\n        \"num_unique_values\": 2,\n        \"samples\": [\n          \"M\",\n          \"F\"\n        ],\n        \"semantic_type\": \"\",\n        \"description\": \"\"\n      }\n    },\n    {\n      \"column\": \"titulacao\",\n      \"properties\": {\n        \"dtype\": \"string\",\n        \"num_unique_values\": 3,\n        \"samples\": [\n          \"DOUTORADO\",\n          \"ESPECIALIZA\\u00c7\\u00c3O\"\n        ],\n        \"semantic_type\": \"\",\n        \"description\": \"\"\n      }\n    }\n  ]\n}"
            }
          },
          "metadata": {},
          "execution_count": 8
        }
      ],
      "source": [
        "import pandas as pd\n",
        "\n",
        "url_2020 = \"http://dadosabertos.ufma.br/dataset/bde43517-db0b-4aa9-9ac0-0afce96607f8/resource/2218bda5-7ca7-4296-a419-561592cd5454/download/tecnicos-administrativos_-_2020.csv\"\n",
        "\n",
        "colunas = ['nome','unidade','sexo','titulacao']\n",
        "df = pd.read_csv(url_2020, sep = ';', usecols= colunas)\n",
        "df.head() #-> mostrar as primeiras 5 colunas\n",
        "#df.info() -> saber se os dados foram carregados corretamente\n",
        "\n"
      ]
    },
    {
      "cell_type": "markdown",
      "source": [
        "##Primeira Análise:\n",
        "#### Analisar a quantidade de técnicos por UNIDADE de trabalho:"
      ],
      "metadata": {
        "id": "VobJ7gmkastq"
      }
    },
    {
      "cell_type": "code",
      "source": [
        "df.unidade.value_counts().sort_values(ascending= False).head(10)\n",
        "#value_counts -> conta quantas vezes um determinado valor aparece na coluna desejada, neste caso \"unidade\"\n",
        "#sort_values -> Mostra por ordem, por padrão este método ele apresenta os valores por ordem CRESCENTE,\n",
        "#por isso utiliza-se o parâmetro \"ascending = False\" para que os valores apareçam de forma DECRESCENTE."
      ],
      "metadata": {
        "colab": {
          "base_uri": "https://localhost:8080/",
          "height": 429
        },
        "id": "bsPaUm39bKAq",
        "outputId": "9364109a-634d-453a-ed0b-a7980d72414a"
      },
      "execution_count": null,
      "outputs": [
        {
          "output_type": "execute_result",
          "data": {
            "text/plain": [
              "unidade\n",
              "HOSPITAL UNIVERSITARIO/SUPERINTENDENCIA                              503\n",
              "CENTRO DE CIENCIAS SOCIAIS SAUDE E TECNOLOGIA - CCSST                 37\n",
              "SUPERINTENDENCIA DE INFRAESTRUTURA/SINFRA                             36\n",
              "DIVISAO DE ATENDIMENTO AO USUARIO/DIB                                 29\n",
              "CENTRO DE CIENCIAS HUMANAS, NATURAIS, SAUDE E TECNOLOGIA - CCHNST     25\n",
              "CENTRO DE CIENCIAS AGRARIAS E AMBIENTAIS - CCAA                       24\n",
              "DIRETORIA DE ACESSIBILIDADE/PROEN                                     22\n",
              "COLEGIO UNIVERSITARIO                                                 22\n",
              "COORDENACAO DE SEGURANCA/SINFRA                                       20\n",
              "GABINETE/REITORIA                                                     20\n",
              "Name: count, dtype: int64"
            ],
            "text/html": [
              "<div>\n",
              "<style scoped>\n",
              "    .dataframe tbody tr th:only-of-type {\n",
              "        vertical-align: middle;\n",
              "    }\n",
              "\n",
              "    .dataframe tbody tr th {\n",
              "        vertical-align: top;\n",
              "    }\n",
              "\n",
              "    .dataframe thead th {\n",
              "        text-align: right;\n",
              "    }\n",
              "</style>\n",
              "<table border=\"1\" class=\"dataframe\">\n",
              "  <thead>\n",
              "    <tr style=\"text-align: right;\">\n",
              "      <th></th>\n",
              "      <th>count</th>\n",
              "    </tr>\n",
              "    <tr>\n",
              "      <th>unidade</th>\n",
              "      <th></th>\n",
              "    </tr>\n",
              "  </thead>\n",
              "  <tbody>\n",
              "    <tr>\n",
              "      <th>HOSPITAL UNIVERSITARIO/SUPERINTENDENCIA</th>\n",
              "      <td>503</td>\n",
              "    </tr>\n",
              "    <tr>\n",
              "      <th>CENTRO DE CIENCIAS SOCIAIS SAUDE E TECNOLOGIA - CCSST</th>\n",
              "      <td>37</td>\n",
              "    </tr>\n",
              "    <tr>\n",
              "      <th>SUPERINTENDENCIA DE INFRAESTRUTURA/SINFRA</th>\n",
              "      <td>36</td>\n",
              "    </tr>\n",
              "    <tr>\n",
              "      <th>DIVISAO DE ATENDIMENTO AO USUARIO/DIB</th>\n",
              "      <td>29</td>\n",
              "    </tr>\n",
              "    <tr>\n",
              "      <th>CENTRO DE CIENCIAS HUMANAS, NATURAIS, SAUDE E TECNOLOGIA - CCHNST</th>\n",
              "      <td>25</td>\n",
              "    </tr>\n",
              "    <tr>\n",
              "      <th>CENTRO DE CIENCIAS AGRARIAS E AMBIENTAIS - CCAA</th>\n",
              "      <td>24</td>\n",
              "    </tr>\n",
              "    <tr>\n",
              "      <th>DIRETORIA DE ACESSIBILIDADE/PROEN</th>\n",
              "      <td>22</td>\n",
              "    </tr>\n",
              "    <tr>\n",
              "      <th>COLEGIO UNIVERSITARIO</th>\n",
              "      <td>22</td>\n",
              "    </tr>\n",
              "    <tr>\n",
              "      <th>COORDENACAO DE SEGURANCA/SINFRA</th>\n",
              "      <td>20</td>\n",
              "    </tr>\n",
              "    <tr>\n",
              "      <th>GABINETE/REITORIA</th>\n",
              "      <td>20</td>\n",
              "    </tr>\n",
              "  </tbody>\n",
              "</table>\n",
              "</div><br><label><b>dtype:</b> int64</label>"
            ]
          },
          "metadata": {},
          "execution_count": 17
        }
      ]
    },
    {
      "cell_type": "markdown",
      "source": [
        "##Segunda Análise:\n",
        "#### Analisar a quantidade de técnicos por titulação:\n"
      ],
      "metadata": {
        "id": "apLhEu3sgtY9"
      }
    },
    {
      "cell_type": "code",
      "source": [
        "df.titulacao.value_counts().sort_values(ascending = False)"
      ],
      "metadata": {
        "colab": {
          "base_uri": "https://localhost:8080/",
          "height": 460
        },
        "id": "57eH21becWKD",
        "outputId": "e52721ea-c391-4277-c401-14fae23a8f8b"
      },
      "execution_count": null,
      "outputs": [
        {
          "output_type": "execute_result",
          "data": {
            "text/plain": [
              "titulacao\n",
              "ESPECIALIZAÇÃO                             787\n",
              "ENSINO MÉDIO                               324\n",
              "MESTRADO                                   310\n",
              "GRADUAÇÃO                                  230\n",
              "DOUTORADO                                   45\n",
              "ENSINO FUNDAMENTAL                          18\n",
              "TÉCNICO PROFISSIONALIZANTE - ENS. MÉDIO      3\n",
              "ENSINO FUNDAMENTAL INCOMPLETO                3\n",
              "GRADUAÇÃO INCOMPLETO                         1\n",
              "TECNÓLOGO DE NÍVEL SUPERIOR                  1\n",
              "ALFABETIZAÇÃO                                1\n",
              "Name: count, dtype: int64"
            ],
            "text/html": [
              "<div>\n",
              "<style scoped>\n",
              "    .dataframe tbody tr th:only-of-type {\n",
              "        vertical-align: middle;\n",
              "    }\n",
              "\n",
              "    .dataframe tbody tr th {\n",
              "        vertical-align: top;\n",
              "    }\n",
              "\n",
              "    .dataframe thead th {\n",
              "        text-align: right;\n",
              "    }\n",
              "</style>\n",
              "<table border=\"1\" class=\"dataframe\">\n",
              "  <thead>\n",
              "    <tr style=\"text-align: right;\">\n",
              "      <th></th>\n",
              "      <th>count</th>\n",
              "    </tr>\n",
              "    <tr>\n",
              "      <th>titulacao</th>\n",
              "      <th></th>\n",
              "    </tr>\n",
              "  </thead>\n",
              "  <tbody>\n",
              "    <tr>\n",
              "      <th>ESPECIALIZAÇÃO</th>\n",
              "      <td>787</td>\n",
              "    </tr>\n",
              "    <tr>\n",
              "      <th>ENSINO MÉDIO</th>\n",
              "      <td>324</td>\n",
              "    </tr>\n",
              "    <tr>\n",
              "      <th>MESTRADO</th>\n",
              "      <td>310</td>\n",
              "    </tr>\n",
              "    <tr>\n",
              "      <th>GRADUAÇÃO</th>\n",
              "      <td>230</td>\n",
              "    </tr>\n",
              "    <tr>\n",
              "      <th>DOUTORADO</th>\n",
              "      <td>45</td>\n",
              "    </tr>\n",
              "    <tr>\n",
              "      <th>ENSINO FUNDAMENTAL</th>\n",
              "      <td>18</td>\n",
              "    </tr>\n",
              "    <tr>\n",
              "      <th>TÉCNICO PROFISSIONALIZANTE - ENS. MÉDIO</th>\n",
              "      <td>3</td>\n",
              "    </tr>\n",
              "    <tr>\n",
              "      <th>ENSINO FUNDAMENTAL INCOMPLETO</th>\n",
              "      <td>3</td>\n",
              "    </tr>\n",
              "    <tr>\n",
              "      <th>GRADUAÇÃO INCOMPLETO</th>\n",
              "      <td>1</td>\n",
              "    </tr>\n",
              "    <tr>\n",
              "      <th>TECNÓLOGO DE NÍVEL SUPERIOR</th>\n",
              "      <td>1</td>\n",
              "    </tr>\n",
              "    <tr>\n",
              "      <th>ALFABETIZAÇÃO</th>\n",
              "      <td>1</td>\n",
              "    </tr>\n",
              "  </tbody>\n",
              "</table>\n",
              "</div><br><label><b>dtype:</b> int64</label>"
            ]
          },
          "metadata": {},
          "execution_count": 18
        }
      ]
    },
    {
      "cell_type": "markdown",
      "source": [
        "#####Plotagem dos dados acima(TITULAÇÃO):"
      ],
      "metadata": {
        "id": "HWXOnwiWhssn"
      }
    },
    {
      "cell_type": "code",
      "source": [
        "df['titulacao'].value_counts(normalize=True).plot(kind='bar')\n",
        "# parâmetro \"normalize = True\" para apresentar os valores por proporção.\n",
        "#Exemplo disso é a especialização com quase 50% dos técnicos(0.5 apresentado no gráfico)."
      ],
      "metadata": {
        "colab": {
          "base_uri": "https://localhost:8080/",
          "height": 768
        },
        "id": "2k1EmtSYgNBB",
        "outputId": "53d2e346-04bf-4411-ceae-a653591bf711"
      },
      "execution_count": null,
      "outputs": [
        {
          "output_type": "execute_result",
          "data": {
            "text/plain": [
              "<Axes: xlabel='titulacao'>"
            ]
          },
          "metadata": {},
          "execution_count": 20
        },
        {
          "output_type": "display_data",
          "data": {
            "text/plain": [
              "<Figure size 640x480 with 1 Axes>"
            ],
            "image/png": "[encoded data removed]"
          },
          "metadata": {}
        }
      ]
    },
    {
      "cell_type": "markdown",
      "source": [
        "##Terceira Análise\n",
        "####Analisando a titulação e o sexo dos técnicos."
      ],
      "metadata": {
        "id": "P4eb_rKokuaS"
      }
    },
    {
      "cell_type": "markdown",
      "source": [
        "######Primeiramente analisando o número de técnicos por gênero:"
      ],
      "metadata": {
        "id": "l3rPI_u4llxw"
      }
    },
    {
      "cell_type": "code",
      "source": [
        "df.sexo.value_counts().sort_values(ascending=False)"
      ],
      "metadata": {
        "colab": {
          "base_uri": "https://localhost:8080/",
          "height": 178
        },
        "id": "vpRW0y6ElMXm",
        "outputId": "6aa0f467-27ff-4e9c-dfb6-94ecb9641b9c"
      },
      "execution_count": null,
      "outputs": [
        {
          "output_type": "execute_result",
          "data": {
            "text/plain": [
              "sexo\n",
              "F    972\n",
              "M    751\n",
              "Name: count, dtype: int64"
            ],
            "text/html": [
              "<div>\n",
              "<style scoped>\n",
              "    .dataframe tbody tr th:only-of-type {\n",
              "        vertical-align: middle;\n",
              "    }\n",
              "\n",
              "    .dataframe tbody tr th {\n",
              "        vertical-align: top;\n",
              "    }\n",
              "\n",
              "    .dataframe thead th {\n",
              "        text-align: right;\n",
              "    }\n",
              "</style>\n",
              "<table border=\"1\" class=\"dataframe\">\n",
              "  <thead>\n",
              "    <tr style=\"text-align: right;\">\n",
              "      <th></th>\n",
              "      <th>count</th>\n",
              "    </tr>\n",
              "    <tr>\n",
              "      <th>sexo</th>\n",
              "      <th></th>\n",
              "    </tr>\n",
              "  </thead>\n",
              "  <tbody>\n",
              "    <tr>\n",
              "      <th>F</th>\n",
              "      <td>972</td>\n",
              "    </tr>\n",
              "    <tr>\n",
              "      <th>M</th>\n",
              "      <td>751</td>\n",
              "    </tr>\n",
              "  </tbody>\n",
              "</table>\n",
              "</div><br><label><b>dtype:</b> int64</label>"
            ]
          },
          "metadata": {},
          "execution_count": 21
        }
      ]
    },
    {
      "cell_type": "code",
      "source": [
        "df.value_counts(['sexo', 'titulacao']).unstack().plot(kind='bar',)\n",
        "#O gráfico ficou um pouco confuso e poluído, então decidir pesquisar por\n",
        "#uma forma de deixá-lo mais clean."
      ],
      "metadata": {
        "colab": {
          "base_uri": "https://localhost:8080/",
          "height": 465
        },
        "id": "zJc5G8RFlVgU",
        "outputId": "8d8f9224-dcaa-47c3-f182-a944e5cbb530"
      },
      "execution_count": null,
      "outputs": [
        {
          "output_type": "execute_result",
          "data": {
            "text/plain": [
              "<Axes: xlabel='sexo'>"
            ]
          },
          "metadata": {},
          "execution_count": 28
        },
        {
          "output_type": "display_data",
          "data": {
            "text/plain": [
              "<Figure size 640x480 with 1 Axes>"
            ],
            "image/png": "[encoded data removed]"
          },
          "metadata": {}
        }
      ]
    },
    {
      "cell_type": "code",
      "source": [
        "#Descobri que o primeiro parâmetro passado no value_counts(EIXO X, EIXO Y) é referente ao eixo X e o segundo ao eixo Y.\n",
        "#Desta forma, se passarmos \"TITULACAO\" como eixo X e \"SEXO\" como eixo Y, o gráfico fica assim:\n",
        "#Bem mais compreensível. :3 <3\n",
        "df.value_counts(['titulacao', 'sexo']).unstack().plot(kind='bar', stacked=True)"
      ],
      "metadata": {
        "colab": {
          "base_uri": "https://localhost:8080/",
          "height": 768
        },
        "id": "dELGJ0kQoMdZ",
        "outputId": "94cdc4f3-ecd2-464c-ab3b-8f0eab011e81"
      },
      "execution_count": null,
      "outputs": [
        {
          "output_type": "execute_result",
          "data": {
            "text/plain": [
              "<Axes: xlabel='titulacao'>"
            ]
          },
          "metadata": {},
          "execution_count": 29
        },
        {
          "output_type": "display_data",
          "data": {
            "text/plain": [
              "<Figure size 640x480 with 1 Axes>"
            ],
            "image/png": "[encoded data removed]"
          },
          "metadata": {}
        }
      ]
    },
    {
      "cell_type": "markdown",
      "source": [
        "##Última Análise\n",
        "####Vamos analisar as 10 primeiras unidades com mais técnicos por sexo masculino e por sexo feminino"
      ],
      "metadata": {
        "id": "9905mOZ2qBd8"
      }
    },
    {
      "cell_type": "code",
      "source": [
        "tecnicos_masculino = df.query(\"sexo == 'M'\").unidade.value_counts()\n",
        "tecnicos_feminino = df.query(\"sexo == 'F'\").unidade.value_counts()\n",
        "\n",
        "tecnicos_masculino.sort_values(ascending=False).head(10)"
      ],
      "metadata": {
        "colab": {
          "base_uri": "https://localhost:8080/",
          "height": 429
        },
        "id": "8S3kfbXJqXsw",
        "outputId": "4bd8a107-b5d5-4848-bbc1-d8405b251019"
      },
      "execution_count": null,
      "outputs": [
        {
          "output_type": "execute_result",
          "data": {
            "text/plain": [
              "unidade\n",
              "HOSPITAL UNIVERSITARIO/SUPERINTENDENCIA                              98\n",
              "SUPERINTENDENCIA DE INFRAESTRUTURA/SINFRA                            36\n",
              "COORDENACAO DE SEGURANCA/SINFRA                                      20\n",
              "CENTRO DE CIENCIAS AGRARIAS E AMBIENTAIS - CCAA                      16\n",
              "CENTRO DE CIENCIAS SOCIAIS SAUDE E TECNOLOGIA - CCSST                15\n",
              "SERVICO DE SEGURANCA E MEDICINA DO TRABALHO/PROGEP                   12\n",
              "CENTRO DE CIENCIAS HUMANAS, NATURAIS, SAUDE E TECNOLOGIA - CCHNST    11\n",
              "CAMPUS BALSAS - CPBL                                                 11\n",
              "COORDENACAO DO CURSO DE MEDICINA PINHEIRO/CCHNST                     10\n",
              "DIRETORIA DE PLANEJAMENTO, ENGENHARIA E CONTROLE/SINFRA               9\n",
              "Name: count, dtype: int64"
            ],
            "text/html": [
              "<div>\n",
              "<style scoped>\n",
              "    .dataframe tbody tr th:only-of-type {\n",
              "        vertical-align: middle;\n",
              "    }\n",
              "\n",
              "    .dataframe tbody tr th {\n",
              "        vertical-align: top;\n",
              "    }\n",
              "\n",
              "    .dataframe thead th {\n",
              "        text-align: right;\n",
              "    }\n",
              "</style>\n",
              "<table border=\"1\" class=\"dataframe\">\n",
              "  <thead>\n",
              "    <tr style=\"text-align: right;\">\n",
              "      <th></th>\n",
              "      <th>count</th>\n",
              "    </tr>\n",
              "    <tr>\n",
              "      <th>unidade</th>\n",
              "      <th></th>\n",
              "    </tr>\n",
              "  </thead>\n",
              "  <tbody>\n",
              "    <tr>\n",
              "      <th>HOSPITAL UNIVERSITARIO/SUPERINTENDENCIA</th>\n",
              "      <td>98</td>\n",
              "    </tr>\n",
              "    <tr>\n",
              "      <th>SUPERINTENDENCIA DE INFRAESTRUTURA/SINFRA</th>\n",
              "      <td>36</td>\n",
              "    </tr>\n",
              "    <tr>\n",
              "      <th>COORDENACAO DE SEGURANCA/SINFRA</th>\n",
              "      <td>20</td>\n",
              "    </tr>\n",
              "    <tr>\n",
              "      <th>CENTRO DE CIENCIAS AGRARIAS E AMBIENTAIS - CCAA</th>\n",
              "      <td>16</td>\n",
              "    </tr>\n",
              "    <tr>\n",
              "      <th>CENTRO DE CIENCIAS SOCIAIS SAUDE E TECNOLOGIA - CCSST</th>\n",
              "      <td>15</td>\n",
              "    </tr>\n",
              "    <tr>\n",
              "      <th>SERVICO DE SEGURANCA E MEDICINA DO TRABALHO/PROGEP</th>\n",
              "      <td>12</td>\n",
              "    </tr>\n",
              "    <tr>\n",
              "      <th>CENTRO DE CIENCIAS HUMANAS, NATURAIS, SAUDE E TECNOLOGIA - CCHNST</th>\n",
              "      <td>11</td>\n",
              "    </tr>\n",
              "    <tr>\n",
              "      <th>CAMPUS BALSAS - CPBL</th>\n",
              "      <td>11</td>\n",
              "    </tr>\n",
              "    <tr>\n",
              "      <th>COORDENACAO DO CURSO DE MEDICINA PINHEIRO/CCHNST</th>\n",
              "      <td>10</td>\n",
              "    </tr>\n",
              "    <tr>\n",
              "      <th>DIRETORIA DE PLANEJAMENTO, ENGENHARIA E CONTROLE/SINFRA</th>\n",
              "      <td>9</td>\n",
              "    </tr>\n",
              "  </tbody>\n",
              "</table>\n",
              "</div><br><label><b>dtype:</b> int64</label>"
            ]
          },
          "metadata": {},
          "execution_count": 32
        }
      ]
    },
    {
      "cell_type": "code",
      "source": [
        "tecnicos_feminino.sort_values(ascending=False).head(10)"
      ],
      "metadata": {
        "colab": {
          "base_uri": "https://localhost:8080/",
          "height": 429
        },
        "id": "wCXcYhYPwSKj",
        "outputId": "00660454-115d-480c-d22b-7e22916a6a50"
      },
      "execution_count": null,
      "outputs": [
        {
          "output_type": "execute_result",
          "data": {
            "text/plain": [
              "unidade\n",
              "HOSPITAL UNIVERSITARIO/SUPERINTENDENCIA                              405\n",
              "DIVISAO DE ATENDIMENTO AO USUARIO/DIB                                 22\n",
              "CENTRO DE CIENCIAS SOCIAIS SAUDE E TECNOLOGIA - CCSST                 22\n",
              "CENTRO DE CIENCIAS HUMANAS, NATURAIS, SAUDE E TECNOLOGIA - CCHNST     14\n",
              "COLEGIO UNIVERSITARIO                                                 14\n",
              "DIRETORIA DE ACESSIBILIDADE/PROEN                                     13\n",
              "DIVISAO MEDICA                                                        12\n",
              "GABINETE/REITORIA                                                     11\n",
              "DIVISAO DE NUTRICAO E DIETETICA                                       11\n",
              "DIVISAO DE PROCESSAMENTO TECNICO E INFORMACAO DIGITAL/DIB             10\n",
              "Name: count, dtype: int64"
            ],
            "text/html": [
              "<div>\n",
              "<style scoped>\n",
              "    .dataframe tbody tr th:only-of-type {\n",
              "        vertical-align: middle;\n",
              "    }\n",
              "\n",
              "    .dataframe tbody tr th {\n",
              "        vertical-align: top;\n",
              "    }\n",
              "\n",
              "    .dataframe thead th {\n",
              "        text-align: right;\n",
              "    }\n",
              "</style>\n",
              "<table border=\"1\" class=\"dataframe\">\n",
              "  <thead>\n",
              "    <tr style=\"text-align: right;\">\n",
              "      <th></th>\n",
              "      <th>count</th>\n",
              "    </tr>\n",
              "    <tr>\n",
              "      <th>unidade</th>\n",
              "      <th></th>\n",
              "    </tr>\n",
              "  </thead>\n",
              "  <tbody>\n",
              "    <tr>\n",
              "      <th>HOSPITAL UNIVERSITARIO/SUPERINTENDENCIA</th>\n",
              "      <td>405</td>\n",
              "    </tr>\n",
              "    <tr>\n",
              "      <th>DIVISAO DE ATENDIMENTO AO USUARIO/DIB</th>\n",
              "      <td>22</td>\n",
              "    </tr>\n",
              "    <tr>\n",
              "      <th>CENTRO DE CIENCIAS SOCIAIS SAUDE E TECNOLOGIA - CCSST</th>\n",
              "      <td>22</td>\n",
              "    </tr>\n",
              "    <tr>\n",
              "      <th>CENTRO DE CIENCIAS HUMANAS, NATURAIS, SAUDE E TECNOLOGIA - CCHNST</th>\n",
              "      <td>14</td>\n",
              "    </tr>\n",
              "    <tr>\n",
              "      <th>COLEGIO UNIVERSITARIO</th>\n",
              "      <td>14</td>\n",
              "    </tr>\n",
              "    <tr>\n",
              "      <th>DIRETORIA DE ACESSIBILIDADE/PROEN</th>\n",
              "      <td>13</td>\n",
              "    </tr>\n",
              "    <tr>\n",
              "      <th>DIVISAO MEDICA</th>\n",
              "      <td>12</td>\n",
              "    </tr>\n",
              "    <tr>\n",
              "      <th>GABINETE/REITORIA</th>\n",
              "      <td>11</td>\n",
              "    </tr>\n",
              "    <tr>\n",
              "      <th>DIVISAO DE NUTRICAO E DIETETICA</th>\n",
              "      <td>11</td>\n",
              "    </tr>\n",
              "    <tr>\n",
              "      <th>DIVISAO DE PROCESSAMENTO TECNICO E INFORMACAO DIGITAL/DIB</th>\n",
              "      <td>10</td>\n",
              "    </tr>\n",
              "  </tbody>\n",
              "</table>\n",
              "</div><br><label><b>dtype:</b> int64</label>"
            ]
          },
          "metadata": {},
          "execution_count": 33
        }
      ]
    },
    {
      "cell_type": "code",
      "source": [],
      "metadata": {
        "id": "ZdHKQtXiwdH-"
      },
      "execution_count": null,
      "outputs": []
    }
  ]
}